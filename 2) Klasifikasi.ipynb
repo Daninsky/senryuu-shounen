{
 "cells": [
  {
   "cell_type": "markdown",
   "metadata": {},
   "source": [
    "# Tugas Akhir NLP\n",
    "## Senryuu Shounen\n",
    "### Tahapan 2: Klasifikasi dengan menggunakan Multinomial Naive Bayes"
   ]
  },
  {
   "cell_type": "code",
   "execution_count": 3,
   "metadata": {},
   "outputs": [],
   "source": [
    "# Impor modul\n",
    "\n",
    "import numpy as np\n",
    "import pandas as pd\n",
    "import nltk\n",
    "import sklearn"
   ]
  },
  {
   "cell_type": "markdown",
   "metadata": {},
   "source": [
    "Class Multinomial Naive Bayes\n",
    "Kode ini dibuat berdasarkan PR Mata Kuliah Pemelajaran Mesin\n",
    "Referensi: Andrew NG"
   ]
  },
  {
   "cell_type": "code",
   "execution_count": 4,
   "metadata": {},
   "outputs": [],
   "source": [
    "class MNB_TextClassifier:\n",
    "    \n",
    "    def __init__(self):\n",
    "        self.prior = {}\n",
    "        self.condprob = {}\n",
    "    \n",
    "    def proba_y_given_x(self, y, x):\n",
    "        length = len(self.condprob)\n",
    "        prob_y = self.prior[y]\n",
    "        prob_x = 1\n",
    "        for i in x:\n",
    "            if(i in self.condprob.keys()):\n",
    "                prob_x *= (self.condprob[i][y])\n",
    "            else:\n",
    "                prob_x *= ((1)/(self.dict_y_term[y] + length))\n",
    "        return prob_y * prob_x\n",
    "    \n",
    "    def proba_y(self, y):\n",
    "        return self.prior[y]\n",
    "    \n",
    "    def fit(self, X, y):\n",
    "        dict_y = {i:list(y).count(i) for i in y}\n",
    "        total_y = 0\n",
    "\n",
    "        for i in dict_y:\n",
    "            total_y += dict_y[i]\n",
    "        for i in dict_y:\n",
    "            self.prior[i] = dict_y[i]/total_y\n",
    "        \n",
    "        X_Plain = list()\n",
    "        \n",
    "        for i in X:\n",
    "            for j in i:\n",
    "                X_Plain.append(j)\n",
    "\n",
    "        dict_x = {i:X_Plain.count(i) for i in X_Plain}\n",
    "        dict_x_dict_y = {i:dict() for i in dict_x}\n",
    "        dict_x_cond_y = {i:dict() for i in dict_x}\n",
    "\n",
    "        for i in range(len(X)):\n",
    "            for j in X[i]:\n",
    "                if(i in dict_x_cond_y[j]):\n",
    "                    dict_x_cond_y[j][i] += 1\n",
    "                else:\n",
    "                    dict_x_cond_y[j][i] = 1\n",
    "        self.dict_y_term = {i:0 for i in y}\n",
    "        for i in range(len(y)):\n",
    "            self.dict_y_term[y[i]] += (len(X[i]))\n",
    "\n",
    "        dict_y_last = {i:{j:0 for j in self.dict_y_term} for i in dict_x_cond_y}\n",
    "\n",
    "        for i in dict_x_cond_y:\n",
    "            for j in range(len(y)):\n",
    "                if(j in dict_x_cond_y[i]):\n",
    "                    dict_y_last[i][y[j]] += dict_x_cond_y[i][j] \n",
    "        self.condprob = {i:{j:0 for j in self.dict_y_term} for i in dict_x_cond_y}\n",
    "        for i in dict_y_last:\n",
    "            for j in dict_y_last[i]:\n",
    "\n",
    "                self.condprob[i][j] = (dict_y_last[i][j] + 1)/(self.dict_y_term[j] + len(dict_x))\n",
    "        \n",
    "    def predict_single(self, x):\n",
    "        classes = [i for i in self.prior.keys()]\n",
    "        likelihood = [self.proba_y_given_x(i,x) for i in classes]\n",
    "        return classes[likelihood.index(max(likelihood))]\n",
    "        \n",
    "    def predict(self, X):\n",
    "        return [self.predict_single(x) for x in X]"
   ]
  },
  {
   "cell_type": "markdown",
   "metadata": {},
   "source": [
    "## Data training\n",
    "Data training yang digunakan: **single annotator**"
   ]
  },
  {
   "cell_type": "code",
   "execution_count": 5,
   "metadata": {},
   "outputs": [
    {
     "data": {
      "text/html": [
       "<div>\n",
       "<style scoped>\n",
       "    .dataframe tbody tr th:only-of-type {\n",
       "        vertical-align: middle;\n",
       "    }\n",
       "\n",
       "    .dataframe tbody tr th {\n",
       "        vertical-align: top;\n",
       "    }\n",
       "\n",
       "    .dataframe thead th {\n",
       "        text-align: right;\n",
       "    }\n",
       "</style>\n",
       "<table border=\"1\" class=\"dataframe\">\n",
       "  <thead>\n",
       "    <tr style=\"text-align: right;\">\n",
       "      <th></th>\n",
       "      <th>Unnamed: 0</th>\n",
       "      <th>kalimat_id</th>\n",
       "      <th>kata</th>\n",
       "      <th>sense</th>\n",
       "      <th>kalimat</th>\n",
       "    </tr>\n",
       "  </thead>\n",
       "  <tbody>\n",
       "    <tr>\n",
       "      <th>0</th>\n",
       "      <td>0</td>\n",
       "      <td>336691</td>\n",
       "      <td>cerah</td>\n",
       "      <td>4801</td>\n",
       "      <td>cuaca cerah lazim</td>\n",
       "    </tr>\n",
       "    <tr>\n",
       "      <th>1</th>\n",
       "      <td>1</td>\n",
       "      <td>336270</td>\n",
       "      <td>cerah</td>\n",
       "      <td>4801</td>\n",
       "      <td>gambar dihasilkan layarnya cerah memiliki spea...</td>\n",
       "    </tr>\n",
       "    <tr>\n",
       "      <th>2</th>\n",
       "      <td>2</td>\n",
       "      <td>336555</td>\n",
       "      <td>cerah</td>\n",
       "      <td>4803</td>\n",
       "      <td>cerah pemuda berumur 20 prancis abad 17</td>\n",
       "    </tr>\n",
       "    <tr>\n",
       "      <th>3</th>\n",
       "      <td>3</td>\n",
       "      <td>336618</td>\n",
       "      <td>cerah</td>\n",
       "      <td>4801</td>\n",
       "      <td>cor caroli alpha canum venaticorum nama lengka...</td>\n",
       "    </tr>\n",
       "    <tr>\n",
       "      <th>4</th>\n",
       "      <td>4</td>\n",
       "      <td>336613</td>\n",
       "      <td>cerah</td>\n",
       "      <td>4801</td>\n",
       "      <td>sanders menyukai cat air lilo maksud menampilk...</td>\n",
       "    </tr>\n",
       "  </tbody>\n",
       "</table>\n",
       "</div>"
      ],
      "text/plain": [
       "   Unnamed: 0  kalimat_id   kata sense  \\\n",
       "0           0      336691  cerah  4801   \n",
       "1           1      336270  cerah  4801   \n",
       "2           2      336555  cerah  4803   \n",
       "3           3      336618  cerah  4801   \n",
       "4           4      336613  cerah  4801   \n",
       "\n",
       "                                             kalimat  \n",
       "0                                  cuaca cerah lazim  \n",
       "1  gambar dihasilkan layarnya cerah memiliki spea...  \n",
       "2            cerah pemuda berumur 20 prancis abad 17  \n",
       "3  cor caroli alpha canum venaticorum nama lengka...  \n",
       "4  sanders menyukai cat air lilo maksud menampilk...  "
      ]
     },
     "execution_count": 5,
     "metadata": {},
     "output_type": "execute_result"
    }
   ],
   "source": [
    "single_annotator = pd.read_csv(\"training_clean/clean_single_annotator.csv\",delimiter=\",\")\n",
    "single_annotator.head()"
   ]
  },
  {
   "cell_type": "code",
   "execution_count": 6,
   "metadata": {},
   "outputs": [
    {
     "data": {
      "text/plain": [
       "'4802'"
      ]
     },
     "execution_count": 6,
     "metadata": {},
     "output_type": "execute_result"
    }
   ],
   "source": [
    "df = single_annotator[single_annotator['kata']=='cerah']\n",
    "arr = [nltk.word_tokenize(df['kalimat'].iloc[i]) for i in range(len(df))]\n",
    "\n",
    "X = np.array(arr)\n",
    "y = np.array(df['sense'].values)\n",
    "\n",
    "clf = MNB_TextClassifier()\n",
    "clf.fit(X, y)\n",
    "clf.proba_y_given_x('4801',['cuaca'])\n",
    "clf.predict_single('cuaca hari ini cerah boyyyyyyy')"
   ]
  },
  {
   "cell_type": "markdown",
   "metadata": {},
   "source": [
    "## Percobaan 1: Testing dengan Data Anotator\n",
    "Data testing pertama: **double annotator agree**\n",
    "Token yang digunakan: **cerah**"
   ]
  },
  {
   "cell_type": "code",
   "execution_count": 12,
   "metadata": {},
   "outputs": [
    {
     "data": {
      "text/plain": [
       "0.8421052631578947"
      ]
     },
     "execution_count": 12,
     "metadata": {},
     "output_type": "execute_result"
    }
   ],
   "source": [
    "double_annotator_agree = pd.read_csv(\"training_clean/clean_double_annotator_agree.csv\",delimiter=\",\")\n",
    "\n",
    "df_test = double_annotator_agree[double_annotator_agree['kata']=='cerah']\n",
    "\n",
    "test_arr = [nltk.word_tokenize(df_test['kalimat'].iloc[i]) for i in range(len(df_test))]\n",
    "test_X = np.array(test_arr)\n",
    "\n",
    "test_y = np.array(df_test['sense'].values)\n",
    "\n",
    "y_pred = np.array(clf.predict(test_X))\n",
    "\n",
    "acc = sklearn.metrics.accuracy_score(test_y, y_pred)\n",
    "\n",
    "acc"
   ]
  },
  {
   "cell_type": "markdown",
   "metadata": {},
   "source": [
    "## Percobaan 2: Testing dengan Data Submisi Daring"
   ]
  },
  {
   "cell_type": "code",
   "execution_count": 13,
   "metadata": {
    "scrolled": true
   },
   "outputs": [
    {
     "data": {
      "text/html": [
       "<div>\n",
       "<style scoped>\n",
       "    .dataframe tbody tr th:only-of-type {\n",
       "        vertical-align: middle;\n",
       "    }\n",
       "\n",
       "    .dataframe tbody tr th {\n",
       "        vertical-align: top;\n",
       "    }\n",
       "\n",
       "    .dataframe thead th {\n",
       "        text-align: right;\n",
       "    }\n",
       "</style>\n",
       "<table border=\"1\" class=\"dataframe\">\n",
       "  <thead>\n",
       "    <tr style=\"text-align: right;\">\n",
       "      <th></th>\n",
       "      <th>id</th>\n",
       "      <th>word</th>\n",
       "      <th>kalimat</th>\n",
       "    </tr>\n",
       "  </thead>\n",
       "  <tbody>\n",
       "    <tr>\n",
       "      <th>0</th>\n",
       "      <td>13</td>\n",
       "      <td>asing</td>\n",
       "      <td>pecinta film indonesia tv asing mendengar namanya</td>\n",
       "    </tr>\n",
       "    <tr>\n",
       "      <th>1</th>\n",
       "      <td>19</td>\n",
       "      <td>asing</td>\n",
       "      <td>telinga asing aneh mendengar menu masakan soto...</td>\n",
       "    </tr>\n",
       "    <tr>\n",
       "      <th>2</th>\n",
       "      <td>41</td>\n",
       "      <td>asing</td>\n",
       "      <td>warga negara asing warga negara persemakmuran ...</td>\n",
       "    </tr>\n",
       "    <tr>\n",
       "      <th>3</th>\n",
       "      <td>44</td>\n",
       "      <td>asing</td>\n",
       "      <td>belas memerintah sultan mahmud menjalin kerja ...</td>\n",
       "    </tr>\n",
       "    <tr>\n",
       "      <th>4</th>\n",
       "      <td>121</td>\n",
       "      <td>asing</td>\n",
       "      <td>diikuti donatdonat waralaba asing master ring ...</td>\n",
       "    </tr>\n",
       "  </tbody>\n",
       "</table>\n",
       "</div>"
      ],
      "text/plain": [
       "    id   word                                            kalimat\n",
       "0   13  asing  pecinta film indonesia tv asing mendengar namanya\n",
       "1   19  asing  telinga asing aneh mendengar menu masakan soto...\n",
       "2   41  asing  warga negara asing warga negara persemakmuran ...\n",
       "3   44  asing  belas memerintah sultan mahmud menjalin kerja ...\n",
       "4  121  asing  diikuti donatdonat waralaba asing master ring ..."
      ]
     },
     "execution_count": 13,
     "metadata": {},
     "output_type": "execute_result"
    }
   ],
   "source": [
    "test_data = pd.read_csv(\"testing_set/clean_testing_data.csv\",delimiter=\",\")\n",
    "test_data.head()"
   ]
  },
  {
   "cell_type": "code",
   "execution_count": 14,
   "metadata": {},
   "outputs": [
    {
     "data": {
      "text/plain": [
       "array(['asing', 'atas', 'badan', 'baru', 'berat', 'besar', 'bidang',\n",
       "       'bintang', 'bisa', 'buah', 'bulan', 'bunga', 'cabang', 'cerah',\n",
       "       'coklat', 'dalam', 'dasar', 'dunia', 'halaman', 'harapan', 'jalan',\n",
       "       'jam', 'jaringan', 'kabur', 'kaki', 'kali', 'kepala', 'ketat',\n",
       "       'kulit', 'kunci', 'layar', 'lebat', 'lingkungan', 'mata',\n",
       "       'membawa', 'memecahkan', 'menangkap', 'mendorong', 'menerima',\n",
       "       'mengandung', 'mengejar', 'mengeluarkan', 'mengikat', 'mengisi',\n",
       "       'menjaga', 'menurunkan', 'menyusun', 'nilai', 'panas', 'pembagian',\n",
       "       'rapat', 'sarung', 'tengah', 'tinggi'], dtype=object)"
      ]
     },
     "execution_count": 14,
     "metadata": {},
     "output_type": "execute_result"
    }
   ],
   "source": [
    "words = test_data.word.unique()\n",
    "words"
   ]
  },
  {
   "cell_type": "code",
   "execution_count": 15,
   "metadata": {},
   "outputs": [
    {
     "data": {
      "text/html": [
       "<div>\n",
       "<style scoped>\n",
       "    .dataframe tbody tr th:only-of-type {\n",
       "        vertical-align: middle;\n",
       "    }\n",
       "\n",
       "    .dataframe tbody tr th {\n",
       "        vertical-align: top;\n",
       "    }\n",
       "\n",
       "    .dataframe thead th {\n",
       "        text-align: right;\n",
       "    }\n",
       "</style>\n",
       "<table border=\"1\" class=\"dataframe\">\n",
       "  <thead>\n",
       "    <tr style=\"text-align: right;\">\n",
       "      <th></th>\n",
       "      <th>Unnamed: 0</th>\n",
       "      <th>kalimat_id</th>\n",
       "      <th>kata</th>\n",
       "      <th>sense</th>\n",
       "      <th>kalimat</th>\n",
       "    </tr>\n",
       "  </thead>\n",
       "  <tbody>\n",
       "    <tr>\n",
       "      <th>0</th>\n",
       "      <td>0</td>\n",
       "      <td>336691</td>\n",
       "      <td>cerah</td>\n",
       "      <td>4801</td>\n",
       "      <td>cuaca cerah lazim</td>\n",
       "    </tr>\n",
       "    <tr>\n",
       "      <th>1</th>\n",
       "      <td>1</td>\n",
       "      <td>336270</td>\n",
       "      <td>cerah</td>\n",
       "      <td>4801</td>\n",
       "      <td>gambar dihasilkan layarnya cerah memiliki spea...</td>\n",
       "    </tr>\n",
       "    <tr>\n",
       "      <th>2</th>\n",
       "      <td>2</td>\n",
       "      <td>336555</td>\n",
       "      <td>cerah</td>\n",
       "      <td>4803</td>\n",
       "      <td>cerah pemuda berumur 20 prancis abad 17</td>\n",
       "    </tr>\n",
       "    <tr>\n",
       "      <th>3</th>\n",
       "      <td>3</td>\n",
       "      <td>336618</td>\n",
       "      <td>cerah</td>\n",
       "      <td>4801</td>\n",
       "      <td>cor caroli alpha canum venaticorum nama lengka...</td>\n",
       "    </tr>\n",
       "    <tr>\n",
       "      <th>4</th>\n",
       "      <td>4</td>\n",
       "      <td>336613</td>\n",
       "      <td>cerah</td>\n",
       "      <td>4801</td>\n",
       "      <td>sanders menyukai cat air lilo maksud menampilk...</td>\n",
       "    </tr>\n",
       "  </tbody>\n",
       "</table>\n",
       "</div>"
      ],
      "text/plain": [
       "   Unnamed: 0  kalimat_id   kata sense  \\\n",
       "0           0      336691  cerah  4801   \n",
       "1           1      336270  cerah  4801   \n",
       "2           2      336555  cerah  4803   \n",
       "3           3      336618  cerah  4801   \n",
       "4           4      336613  cerah  4801   \n",
       "\n",
       "                                             kalimat  \n",
       "0                                  cuaca cerah lazim  \n",
       "1  gambar dihasilkan layarnya cerah memiliki spea...  \n",
       "2            cerah pemuda berumur 20 prancis abad 17  \n",
       "3  cor caroli alpha canum venaticorum nama lengka...  \n",
       "4  sanders menyukai cat air lilo maksud menampilk...  "
      ]
     },
     "execution_count": 15,
     "metadata": {},
     "output_type": "execute_result"
    }
   ],
   "source": [
    "single_annotator = pd.read_csv(\"training_clean/clean_single_annotator.csv\",delimiter=\",\")\n",
    "single_annotator.head()"
   ]
  },
  {
   "cell_type": "markdown",
   "metadata": {},
   "source": [
    "Untuk setiap kata, buat *classifier* MNB dan tulis ke *dataframe* baru."
   ]
  },
  {
   "cell_type": "code",
   "execution_count": 16,
   "metadata": {},
   "outputs": [],
   "source": [
    "answer = pd.DataFrame(columns=['kalimat_id', 'kata', 'sense'])\n",
    "all_rows = []\n",
    "\n",
    "for word in words:\n",
    "    df = single_annotator[single_annotator['kata']==word]    \n",
    "    arr = [nltk.word_tokenize(df['kalimat'].iloc[i]) for i in range(len(df))]\n",
    "    \n",
    "    X = np.array(arr)\n",
    "    y = np.array(df['sense'].values)\n",
    "\n",
    "    clf = MNB_TextClassifier()\n",
    "    clf.fit(X, y)\n",
    "    \n",
    "    test_current = test_data[test_data['word']==word]\n",
    "    \n",
    "    for index, row in test_current.iterrows():\n",
    "        sense = clf.predict_single(row['kalimat'])\n",
    "        row_dict = {'kalimat_id':row['id'],\n",
    "                    'kata':word,\n",
    "                    'sense':sense}\n",
    "        all_rows.append(row_dict)"
   ]
  },
  {
   "cell_type": "code",
   "execution_count": 17,
   "metadata": {},
   "outputs": [
    {
     "data": {
      "text/plain": [
       "[{'kalimat_id': 13, 'kata': 'asing', 'sense': '5303'},\n",
       " {'kalimat_id': 19, 'kata': 'asing', 'sense': '5303'},\n",
       " {'kalimat_id': 41, 'kata': 'asing', 'sense': '5302'},\n",
       " {'kalimat_id': 44, 'kata': 'asing', 'sense': '5303'},\n",
       " {'kalimat_id': 121, 'kata': 'asing', 'sense': '5303'}]"
      ]
     },
     "execution_count": 17,
     "metadata": {},
     "output_type": "execute_result"
    }
   ],
   "source": [
    "# 5 hasil testing pertama\n",
    "all_rows[:5]"
   ]
  },
  {
   "cell_type": "code",
   "execution_count": 18,
   "metadata": {},
   "outputs": [
    {
     "data": {
      "text/html": [
       "<div>\n",
       "<style scoped>\n",
       "    .dataframe tbody tr th:only-of-type {\n",
       "        vertical-align: middle;\n",
       "    }\n",
       "\n",
       "    .dataframe tbody tr th {\n",
       "        vertical-align: top;\n",
       "    }\n",
       "\n",
       "    .dataframe thead th {\n",
       "        text-align: right;\n",
       "    }\n",
       "</style>\n",
       "<table border=\"1\" class=\"dataframe\">\n",
       "  <thead>\n",
       "    <tr style=\"text-align: right;\">\n",
       "      <th></th>\n",
       "      <th>kalimat_id</th>\n",
       "      <th>kata</th>\n",
       "      <th>sense</th>\n",
       "    </tr>\n",
       "  </thead>\n",
       "  <tbody>\n",
       "    <tr>\n",
       "      <th>0</th>\n",
       "      <td>13</td>\n",
       "      <td>asing</td>\n",
       "      <td>5303</td>\n",
       "    </tr>\n",
       "    <tr>\n",
       "      <th>1</th>\n",
       "      <td>19</td>\n",
       "      <td>asing</td>\n",
       "      <td>5303</td>\n",
       "    </tr>\n",
       "    <tr>\n",
       "      <th>2</th>\n",
       "      <td>41</td>\n",
       "      <td>asing</td>\n",
       "      <td>5302</td>\n",
       "    </tr>\n",
       "    <tr>\n",
       "      <th>3</th>\n",
       "      <td>44</td>\n",
       "      <td>asing</td>\n",
       "      <td>5303</td>\n",
       "    </tr>\n",
       "    <tr>\n",
       "      <th>4</th>\n",
       "      <td>121</td>\n",
       "      <td>asing</td>\n",
       "      <td>5303</td>\n",
       "    </tr>\n",
       "  </tbody>\n",
       "</table>\n",
       "</div>"
      ],
      "text/plain": [
       "   kalimat_id   kata sense\n",
       "0          13  asing  5303\n",
       "1          19  asing  5303\n",
       "2          41  asing  5302\n",
       "3          44  asing  5303\n",
       "4         121  asing  5303"
      ]
     },
     "execution_count": 18,
     "metadata": {},
     "output_type": "execute_result"
    }
   ],
   "source": [
    "hasil_df = pd.DataFrame(all_rows,columns=['kalimat_id', 'kata', 'sense'])\n",
    "hasil_df.head()"
   ]
  },
  {
   "cell_type": "code",
   "execution_count": 19,
   "metadata": {},
   "outputs": [],
   "source": [
    "hasil_df.to_csv(\"hasil_percobaan/hasil_MNB_text_classifier.csv\",header=None,index=False)"
   ]
  }
 ],
 "metadata": {
  "kernelspec": {
   "display_name": "Python 3",
   "language": "python",
   "name": "python3"
  },
  "language_info": {
   "codemirror_mode": {
    "name": "ipython",
    "version": 3
   },
   "file_extension": ".py",
   "mimetype": "text/x-python",
   "name": "python",
   "nbconvert_exporter": "python",
   "pygments_lexer": "ipython3",
   "version": "3.7.1"
  }
 },
 "nbformat": 4,
 "nbformat_minor": 2
}
