{
 "cells": [
  {
   "cell_type": "markdown",
   "metadata": {},
   "source": [
    "# Tugas Akhir NLP\n",
    "## Senryuu Shounen\n",
    "### Tahapan 1: Pre-processing"
   ]
  },
  {
   "cell_type": "code",
   "execution_count": 1,
   "metadata": {},
   "outputs": [],
   "source": [
    "# Import modul\n",
    "\n",
    "import pandas as pd\n",
    "import numpy as np\n",
    "import nltk\n",
    "import re"
   ]
  },
  {
   "cell_type": "code",
   "execution_count": 14,
   "metadata": {},
   "outputs": [],
   "source": [
    "raw_single_annotator = pd.read_csv(\"training_set/single_annotator.csv\",delimiter=\",\")\n",
    "raw_double_annotator_agree = pd.read_csv(\"training_set/double_annotator_agree.csv\",delimiter=\",\")\n",
    "raw_double_annotator_disagree = pd.read_csv(\"training_set/double_annotator_disagree.csv\",delimiter=\",\")\n",
    "raw_triple_annotator_agree = pd.read_csv(\"training_set/triple_annotator_agree.csv\",delimiter=\",\")\n",
    "raw_triple_annotator_disagree = pd.read_csv(\"training_set/triple_annotator_disagree.csv\",delimiter=\",\")"
   ]
  },
  {
   "cell_type": "code",
   "execution_count": 15,
   "metadata": {},
   "outputs": [
    {
     "data": {
      "text/html": [
       "<div>\n",
       "<style scoped>\n",
       "    .dataframe tbody tr th:only-of-type {\n",
       "        vertical-align: middle;\n",
       "    }\n",
       "\n",
       "    .dataframe tbody tr th {\n",
       "        vertical-align: top;\n",
       "    }\n",
       "\n",
       "    .dataframe thead th {\n",
       "        text-align: right;\n",
       "    }\n",
       "</style>\n",
       "<table border=\"1\" class=\"dataframe\">\n",
       "  <thead>\n",
       "    <tr style=\"text-align: right;\">\n",
       "      <th></th>\n",
       "      <th>kalimat_id</th>\n",
       "      <th>kata</th>\n",
       "      <th>sense</th>\n",
       "      <th>kalimat</th>\n",
       "      <th>freq</th>\n",
       "    </tr>\n",
       "  </thead>\n",
       "  <tbody>\n",
       "    <tr>\n",
       "      <th>0</th>\n",
       "      <td>1000113</td>\n",
       "      <td>mengandung</td>\n",
       "      <td>2301</td>\n",
       "      <td>Mengenai sendang bermata air tawar, penduduk s...</td>\n",
       "      <td>2</td>\n",
       "    </tr>\n",
       "    <tr>\n",
       "      <th>1</th>\n",
       "      <td>1000113</td>\n",
       "      <td>mengandung</td>\n",
       "      <td>2301</td>\n",
       "      <td>Mengenai sendang bermata air tawar, penduduk s...</td>\n",
       "      <td>1</td>\n",
       "    </tr>\n",
       "    <tr>\n",
       "      <th>2</th>\n",
       "      <td>1000354</td>\n",
       "      <td>mengandung</td>\n",
       "      <td>2301</td>\n",
       "      <td>Osmofili ragi adalah salah satu organisme yang...</td>\n",
       "      <td>2</td>\n",
       "    </tr>\n",
       "    <tr>\n",
       "      <th>3</th>\n",
       "      <td>1000354</td>\n",
       "      <td>mengandung</td>\n",
       "      <td>2301</td>\n",
       "      <td>Osmofili ragi adalah salah satu organisme yang...</td>\n",
       "      <td>1</td>\n",
       "    </tr>\n",
       "    <tr>\n",
       "      <th>4</th>\n",
       "      <td>1000621</td>\n",
       "      <td>mengandung</td>\n",
       "      <td>2301</td>\n",
       "      <td>Dia bertemu dengan Jill di bandara, meninggalk...</td>\n",
       "      <td>1</td>\n",
       "    </tr>\n",
       "  </tbody>\n",
       "</table>\n",
       "</div>"
      ],
      "text/plain": [
       "   kalimat_id        kata sense  \\\n",
       "0     1000113  mengandung  2301   \n",
       "1     1000113  mengandung  2301   \n",
       "2     1000354  mengandung  2301   \n",
       "3     1000354  mengandung  2301   \n",
       "4     1000621  mengandung  2301   \n",
       "\n",
       "                                             kalimat  freq  \n",
       "0  Mengenai sendang bermata air tawar, penduduk s...     2  \n",
       "1  Mengenai sendang bermata air tawar, penduduk s...     1  \n",
       "2  Osmofili ragi adalah salah satu organisme yang...     2  \n",
       "3  Osmofili ragi adalah salah satu organisme yang...     1  \n",
       "4  Dia bertemu dengan Jill di bandara, meninggalk...     1  "
      ]
     },
     "execution_count": 15,
     "metadata": {},
     "output_type": "execute_result"
    }
   ],
   "source": [
    "raw_triple_annotator_disagree.head()"
   ]
  },
  {
   "cell_type": "markdown",
   "metadata": {},
   "source": [
    "Lakukan normalisasi dan pembersihan pada data"
   ]
  },
  {
   "cell_type": "code",
   "execution_count": 5,
   "metadata": {},
   "outputs": [],
   "source": [
    "def normalize(kalimat):\n",
    "    kalimat = kalimat.lower() # Lower case     \n",
    "    kalimat = re.sub('\\s+', ' ', kalimat) # Hapus spasi ganda\n",
    "    kalimat = kalimat.strip() # Hapus spasi di awal dan akhir     \n",
    "    kalimat = re.sub(r'[^\\w\\s]','',kalimat) # Hapus tanda baca\n",
    "    return kalimat"
   ]
  },
  {
   "cell_type": "code",
   "execution_count": 6,
   "metadata": {},
   "outputs": [],
   "source": [
    "def remove_stopword(kalimat, kata):     \n",
    "    stopwords = pd.read_csv(\"misc/stopwords.csv\", header=None)  \n",
    "    token = nltk.word_tokenize(kalimat)     \n",
    "    token_afterremoval = []     \n",
    "    for k in token:         \n",
    "        if k not in stopwords[0].values or k == kata:             \n",
    "            token_afterremoval.append(k)          \n",
    "    str_clean = ' '.join(token_afterremoval)     \n",
    "    return str_clean "
   ]
  },
  {
   "cell_type": "code",
   "execution_count": 7,
   "metadata": {},
   "outputs": [],
   "source": [
    "def clean(df):\n",
    "    for i in range(df.shape[0]):\n",
    "        kalimat = df['kalimat'][i]\n",
    "        kata = df['kata'][i]\n",
    "        kalimat = normalize(kalimat)\n",
    "        kalimat = remove_stopword(kalimat,kata)\n",
    "        df.at[i,'kalimat'] = kalimat\n",
    "    return df"
   ]
  },
  {
   "cell_type": "code",
   "execution_count": 8,
   "metadata": {},
   "outputs": [],
   "source": [
    "clean_single_annotator = clean(raw_single_annotator)\n",
    "clean_double_annotator_agree = clean(raw_double_annotator_agree)\n",
    "clean_double_annotator_disagree = clean(raw_double_annotator_disagree)\n",
    "clean_triple_annotator_agree = clean(raw_triple_annotator_agree)\n",
    "clean_triple_annotator_disagree = clean(raw_triple_annotator_disagree)"
   ]
  },
  {
   "cell_type": "code",
   "execution_count": 9,
   "metadata": {},
   "outputs": [
    {
     "data": {
      "text/plain": [
       "'sendang bermata air tawar penduduk menamainya sendang mberan sumbernya sendang mata air mengandung belerang dinamakan sendang gong jaman nenek moyang sumbernya ditutup gong'"
      ]
     },
     "execution_count": 9,
     "metadata": {},
     "output_type": "execute_result"
    }
   ],
   "source": [
    "clean_triple_annotator_disagree['kalimat'][0]"
   ]
  },
  {
   "cell_type": "code",
   "execution_count": 10,
   "metadata": {},
   "outputs": [],
   "source": [
    "clean_single_annotator.to_csv('training_clean/clean_single_annotator.csv')\n",
    "clean_double_annotator_agree.to_csv('training_clean/clean_double_annotator_agree.csv')\n",
    "clean_double_annotator_disagree.to_csv('training_clean/clean_double_annotator_disagree.csv')\n",
    "clean_triple_annotator_agree.to_csv('training_clean/clean_triple_annotator_agree.csv')\n",
    "clean_triple_annotator_disagree.to_csv('training_clean/clean_triple_annotator_disagree.csv')"
   ]
  },
  {
   "cell_type": "markdown",
   "metadata": {},
   "source": [
    "Lakukan hal yang sama untuk kalimat testing"
   ]
  },
  {
   "cell_type": "code",
   "execution_count": 9,
   "metadata": {},
   "outputs": [],
   "source": [
    "def clean_test(df):\n",
    "    for i in range(df.shape[0]):\n",
    "        kalimat = df['kalimat'][i]\n",
    "        kata = df['word'][i]\n",
    "        kalimat = normalize(kalimat)\n",
    "        kalimat = remove_stopword(kalimat,kata)\n",
    "        df.at[i,'kalimat'] = kalimat\n",
    "    return df"
   ]
  },
  {
   "cell_type": "code",
   "execution_count": 17,
   "metadata": {},
   "outputs": [],
   "source": [
    "raw_testing_data = pd.read_csv(\"testing_set/testing_data.csv\",delimiter=\",\")\n",
    "clean_testing_data = clean_test(raw_testing_data)\n",
    "clean_testing_data.to_csv(\"testing_set/clean_testing_data.csv\",index=False)"
   ]
  },
  {
   "cell_type": "code",
   "execution_count": 18,
   "metadata": {},
   "outputs": [
    {
     "data": {
      "text/html": [
       "<div>\n",
       "<style scoped>\n",
       "    .dataframe tbody tr th:only-of-type {\n",
       "        vertical-align: middle;\n",
       "    }\n",
       "\n",
       "    .dataframe tbody tr th {\n",
       "        vertical-align: top;\n",
       "    }\n",
       "\n",
       "    .dataframe thead th {\n",
       "        text-align: right;\n",
       "    }\n",
       "</style>\n",
       "<table border=\"1\" class=\"dataframe\">\n",
       "  <thead>\n",
       "    <tr style=\"text-align: right;\">\n",
       "      <th></th>\n",
       "      <th>id</th>\n",
       "      <th>word</th>\n",
       "      <th>kalimat</th>\n",
       "    </tr>\n",
       "  </thead>\n",
       "  <tbody>\n",
       "    <tr>\n",
       "      <th>0</th>\n",
       "      <td>13</td>\n",
       "      <td>asing</td>\n",
       "      <td>pecinta film indonesia tv asing mendengar namanya</td>\n",
       "    </tr>\n",
       "    <tr>\n",
       "      <th>1</th>\n",
       "      <td>19</td>\n",
       "      <td>asing</td>\n",
       "      <td>telinga asing aneh mendengar menu masakan soto...</td>\n",
       "    </tr>\n",
       "    <tr>\n",
       "      <th>2</th>\n",
       "      <td>41</td>\n",
       "      <td>asing</td>\n",
       "      <td>warga negara asing warga negara persemakmuran ...</td>\n",
       "    </tr>\n",
       "    <tr>\n",
       "      <th>3</th>\n",
       "      <td>44</td>\n",
       "      <td>asing</td>\n",
       "      <td>belas memerintah sultan mahmud menjalin kerja ...</td>\n",
       "    </tr>\n",
       "    <tr>\n",
       "      <th>4</th>\n",
       "      <td>121</td>\n",
       "      <td>asing</td>\n",
       "      <td>diikuti donatdonat waralaba asing master ring ...</td>\n",
       "    </tr>\n",
       "  </tbody>\n",
       "</table>\n",
       "</div>"
      ],
      "text/plain": [
       "    id   word                                            kalimat\n",
       "0   13  asing  pecinta film indonesia tv asing mendengar namanya\n",
       "1   19  asing  telinga asing aneh mendengar menu masakan soto...\n",
       "2   41  asing  warga negara asing warga negara persemakmuran ...\n",
       "3   44  asing  belas memerintah sultan mahmud menjalin kerja ...\n",
       "4  121  asing  diikuti donatdonat waralaba asing master ring ..."
      ]
     },
     "execution_count": 18,
     "metadata": {},
     "output_type": "execute_result"
    }
   ],
   "source": [
    "clean_testing_data.head()"
   ]
  },
  {
   "cell_type": "code",
   "execution_count": 12,
   "metadata": {},
   "outputs": [
    {
     "data": {
      "text/html": [
       "<div>\n",
       "<style scoped>\n",
       "    .dataframe tbody tr th:only-of-type {\n",
       "        vertical-align: middle;\n",
       "    }\n",
       "\n",
       "    .dataframe tbody tr th {\n",
       "        vertical-align: top;\n",
       "    }\n",
       "\n",
       "    .dataframe thead th {\n",
       "        text-align: right;\n",
       "    }\n",
       "</style>\n",
       "<table border=\"1\" class=\"dataframe\">\n",
       "  <thead>\n",
       "    <tr style=\"text-align: right;\">\n",
       "      <th></th>\n",
       "      <th>id</th>\n",
       "      <th>word</th>\n",
       "      <th>kalimat</th>\n",
       "    </tr>\n",
       "  </thead>\n",
       "  <tbody>\n",
       "    <tr>\n",
       "      <th>0</th>\n",
       "      <td>13</td>\n",
       "      <td>asing</td>\n",
       "      <td>pecinta film indonesia tv asing mendengar namanya</td>\n",
       "    </tr>\n",
       "    <tr>\n",
       "      <th>1</th>\n",
       "      <td>19</td>\n",
       "      <td>asing</td>\n",
       "      <td>telinga asing aneh mendengar menu masakan soto...</td>\n",
       "    </tr>\n",
       "    <tr>\n",
       "      <th>2</th>\n",
       "      <td>41</td>\n",
       "      <td>asing</td>\n",
       "      <td>warga negara asing warga negara persemakmuran ...</td>\n",
       "    </tr>\n",
       "    <tr>\n",
       "      <th>3</th>\n",
       "      <td>44</td>\n",
       "      <td>asing</td>\n",
       "      <td>belas memerintah sultan mahmud menjalin kerja ...</td>\n",
       "    </tr>\n",
       "    <tr>\n",
       "      <th>4</th>\n",
       "      <td>121</td>\n",
       "      <td>asing</td>\n",
       "      <td>diikuti donatdonat waralaba asing master ring ...</td>\n",
       "    </tr>\n",
       "  </tbody>\n",
       "</table>\n",
       "</div>"
      ],
      "text/plain": [
       "    id   word                                            kalimat\n",
       "0   13  asing  pecinta film indonesia tv asing mendengar namanya\n",
       "1   19  asing  telinga asing aneh mendengar menu masakan soto...\n",
       "2   41  asing  warga negara asing warga negara persemakmuran ...\n",
       "3   44  asing  belas memerintah sultan mahmud menjalin kerja ...\n",
       "4  121  asing  diikuti donatdonat waralaba asing master ring ..."
      ]
     },
     "execution_count": 12,
     "metadata": {},
     "output_type": "execute_result"
    }
   ],
   "source": [
    "raw_testing_data.head()"
   ]
  },
  {
   "cell_type": "code",
   "execution_count": null,
   "metadata": {},
   "outputs": [],
   "source": []
  }
 ],
 "metadata": {
  "kernelspec": {
   "display_name": "Python 3",
   "language": "python",
   "name": "python3"
  },
  "language_info": {
   "codemirror_mode": {
    "name": "ipython",
    "version": 3
   },
   "file_extension": ".py",
   "mimetype": "text/x-python",
   "name": "python",
   "nbconvert_exporter": "python",
   "pygments_lexer": "ipython3",
   "version": "3.7.1"
  }
 },
 "nbformat": 4,
 "nbformat_minor": 2
}
